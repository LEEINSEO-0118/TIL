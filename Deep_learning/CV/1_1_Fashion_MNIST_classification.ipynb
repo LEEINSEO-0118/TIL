{
  "cells": [
    {
      "cell_type": "markdown",
      "metadata": {
        "id": "view-in-github",
        "colab_type": "text"
      },
      "source": [
        "<a href=\"https://colab.research.google.com/github/LEEINSEO-0118/TIL/blob/main/Deep_learning/CV/1_1_%08Fashion_MNIST_classification.ipynb\" target=\"_parent\"><img src=\"https://colab.research.google.com/assets/colab-badge.svg\" alt=\"Open In Colab\"/></a>"
      ]
    },
    {
      "cell_type": "code",
      "execution_count": 1,
      "metadata": {
        "id": "MkoTTOOvkbas"
      },
      "outputs": [],
      "source": [
        "%matplotlib inline"
      ]
    },
    {
      "cell_type": "markdown",
      "metadata": {
        "id": "Ge64UXnJkbau"
      },
      "source": [
        "# MNIST Classification\n",
        "\n",
        "## 데이터 작업하기\n",
        "파이토치(PyTorch)에는 [데이터 작업을 위한 기본 요소](https://pytorch.org/docs/stable/data.html) 두가지인\n",
        "``torch.utils.data.DataLoader`` 와 ``torch.utils.data.Dataset`` 가 있습니다.\n",
        "``Dataset`` 은 샘플과 정답(label)을 저장하고, ``DataLoader`` 는 ``Dataset`` 을 순회 가능한 객체(iterable)로 감쌉니다.\n"
      ]
    },
    {
      "cell_type": "code",
      "execution_count": 2,
      "metadata": {
        "id": "XUdt8UnUkbav"
      },
      "outputs": [],
      "source": [
        "import torch\n",
        "from torch import nn\n",
        "from torch.utils.data import DataLoader\n",
        "from torchvision import datasets\n",
        "from torchvision.transforms import ToTensor"
      ]
    },
    {
      "cell_type": "markdown",
      "metadata": {
        "id": "ST18_E8skbav"
      },
      "source": [
        "PyTorch는 [TorchText](https://pytorch.org/text/stable/index.html), [TorchVision](https://pytorch.org/vision/stable/index.html) 및\n",
        "[TorchAudio](https://pytorch.org/audio/stable/index.html) 와 같이 도메인 특화 라이브러리를 데이터셋과 함께 제공하고 있습니다.\n",
        "이 튜토리얼에서는 TorchVision 데이터셋을 사용하도록 하겠습니다.\n",
        "\n",
        "``torchvision.datasets`` 모듈은 CIFAR, COCO 등과 같은 다양한 실제 비전(vision) 데이터를 포함하고 있습니다.\n",
        "이 튜토리얼에서는 FasionMNIST 데이터셋을 사용합니다.\n",
        "모든 TorchVision ``Dataset`` 은 샘플과 정답을 각각 변경하기 위한 ``transform`` 과 ``target_transform`` 의 두 인자를 포함합니다.\n",
        "\n"
      ]
    },
    {
      "cell_type": "code",
      "execution_count": 3,
      "metadata": {
        "id": "pZZEq4gGkbav"
      },
      "outputs": [],
      "source": [
        "# 공개 데이터셋에서 학습 데이터를 내려받습니다.\n",
        "training_data = datasets.FashionMNIST(\n",
        "    root=\"data\",\n",
        "    train=True,\n",
        "    download=True,\n",
        "    transform=ToTensor(),\n",
        ")\n",
        "\n",
        "# 공개 데이터셋에서 테스트 데이터를 내려받습니다.\n",
        "test_data = datasets.FashionMNIST(\n",
        "    root=\"data\",\n",
        "    train=False,\n",
        "    download=True,\n",
        "    transform=ToTensor(),\n",
        ")"
      ]
    },
    {
      "cell_type": "markdown",
      "metadata": {
        "id": "3NDSjGdpkbaw"
      },
      "source": [
        "``Dataset`` 을 ``DataLoader`` 의 인자로 전달합니다. 이는 데이터셋을 순회 가능한 객체(iterable)로 감싸고, 자동화된 배치(batch), 샘플링(sampling),\n",
        "섞기(shuffle) 및 다중 프로세스로 데이터 불러오기(multiprocess data loading)를 지원합니다. 여기서는 배치 크기(batch size)를 64로 정의합니다.\n",
        "즉, 데이터로더(dataloader) 객체의 각 요소는 64개의 특징(feature)과 정답(label)을 묶음(batch)으로 반환합니다.\n",
        "\n"
      ]
    },
    {
      "cell_type": "code",
      "execution_count": 4,
      "metadata": {
        "id": "mUcYisAKkbaw",
        "colab": {
          "base_uri": "https://localhost:8080/"
        },
        "outputId": "ded92db8-a37b-459c-9cd0-f005d5e68ab8"
      },
      "outputs": [
        {
          "output_type": "stream",
          "name": "stdout",
          "text": [
            "Shape of X [N, C, H, W]: torch.Size([64, 1, 28, 28])\n",
            "Shape of y: torch.Size([64]) torch.int64\n"
          ]
        }
      ],
      "source": [
        "batch_size = 64\n",
        "\n",
        "# 데이터로더를 생성합니다.\n",
        "train_dataloader = DataLoader(training_data, batch_size)\n",
        "test_dataloader = DataLoader(test_data, batch_size)\n",
        "\n",
        "for X, y in test_dataloader:\n",
        "    print(f\"Shape of X [N, C, H, W]: {X.shape}\")\n",
        "    print(f\"Shape of y: {y.shape} {y.dtype}\")\n",
        "    break"
      ]
    },
    {
      "cell_type": "code",
      "source": [
        "import numpy as np\n",
        "\n",
        "classes = []\n",
        "for X, y in test_dataloader:\n",
        "    classes.extend((np.unique(np.array(y))))\n",
        "class_cnt = len(set(classes))\n",
        "print(f'{class_cnt} - {set(classes)}')"
      ],
      "metadata": {
        "colab": {
          "base_uri": "https://localhost:8080/"
        },
        "id": "CDh5uJdJEnVN",
        "outputId": "fa990092-ef35-4e0c-b880-865d17be40c4"
      },
      "execution_count": 5,
      "outputs": [
        {
          "output_type": "stream",
          "name": "stdout",
          "text": [
            "10 - {0, 1, 2, 3, 4, 5, 6, 7, 8, 9}\n"
          ]
        }
      ]
    },
    {
      "cell_type": "markdown",
      "metadata": {
        "id": "PvAKtDU_kbaw"
      },
      "source": [
        "------------------------------------------------------------------------------------------\n",
        "\n",
        "\n"
      ]
    },
    {
      "cell_type": "markdown",
      "metadata": {
        "id": "vdlPUvGlkbax"
      },
      "source": [
        "## 모델 만들기\n",
        "PyTorch에서 신경망 모델은 [nn.Module](https://pytorch.org/docs/stable/generated/torch.nn.Module.html) 을\n",
        "상속받는 클래스(class)를 생성하여 정의합니다. ``__init__`` 함수에서 신경망의 계층(layer)들을 정의하고 ``forward`` 함수에서\n",
        "신경망에 데이터를 어떻게 전달할지 지정합니다. 가능한 경우 GPU 또는 MPS로 신경망을 이동시켜 연산을 가속(accelerate)합니다.\n",
        "\n"
      ]
    },
    {
      "cell_type": "code",
      "source": [
        "32*3*3"
      ],
      "metadata": {
        "colab": {
          "base_uri": "https://localhost:8080/"
        },
        "id": "drcWzm9kRZlU",
        "outputId": "84149849-6bed-4bf3-a605-f0945971b2a1"
      },
      "execution_count": 6,
      "outputs": [
        {
          "output_type": "execute_result",
          "data": {
            "text/plain": [
              "288"
            ]
          },
          "metadata": {},
          "execution_count": 6
        }
      ]
    },
    {
      "cell_type": "code",
      "execution_count": 7,
      "metadata": {
        "id": "3bwdPfJJkbax",
        "colab": {
          "base_uri": "https://localhost:8080/"
        },
        "outputId": "38183a29-2d81-4a52-9f6b-415fede36e10"
      },
      "outputs": [
        {
          "output_type": "stream",
          "name": "stdout",
          "text": [
            "Using cuda device\n",
            "NeuralNetwork(\n",
            "  (conv_block): Sequential(\n",
            "    (0): Conv2d(1, 8, kernel_size=(3, 3), stride=(1, 1))\n",
            "    (1): ReLU()\n",
            "    (2): MaxPool2d(kernel_size=14, stride=1, padding=0, dilation=1, ceil_mode=False)\n",
            "    (3): Conv2d(8, 16, kernel_size=(3, 3), stride=(1, 1))\n",
            "    (4): ReLU()\n",
            "    (5): MaxPool2d(kernel_size=7, stride=1, padding=0, dilation=1, ceil_mode=False)\n",
            "    (6): Conv2d(16, 32, kernel_size=(3, 3), stride=(1, 1))\n",
            "    (7): ReLU()\n",
            "  )\n",
            "  (flatten): Flatten(start_dim=1, end_dim=-1)\n",
            "  (linear_relu_stack): Sequential(\n",
            "    (0): Linear(in_features=288, out_features=128, bias=True)\n",
            "    (1): ReLU()\n",
            "    (2): Linear(in_features=128, out_features=10, bias=True)\n",
            "  )\n",
            ")\n"
          ]
        }
      ],
      "source": [
        "# 학습에 사용할 CPU나 GPU, MPS 장치를 얻습니다.\n",
        "device = (\n",
        "    \"cuda\"\n",
        "    if torch.cuda.is_available()\n",
        "    else \"mps\" # Mac용\n",
        "    if torch.backends.mps.is_available()\n",
        "    else \"cpu\"\n",
        ")\n",
        "print(f\"Using {device} device\")\n",
        "\n",
        "# 모델을 정의합니다.\n",
        "class NeuralNetwork(nn.Module):\n",
        "    def __init__(self):\n",
        "        super().__init__()\n",
        "\n",
        "        self.conv_block = nn.Sequential(\n",
        "            nn.Conv2d(1, 8, 3),\n",
        "            nn.ReLU(),\n",
        "            nn.MaxPool2d(14, 1),\n",
        "            nn.Conv2d(8, 16, 3),\n",
        "            nn.ReLU(),\n",
        "            nn.MaxPool2d(7, 1),\n",
        "            nn.Conv2d(16, 32, 3),\n",
        "            nn.ReLU()\n",
        "        )\n",
        "\n",
        "        self.flatten = nn.Flatten()\n",
        "\n",
        "        self.linear_relu_stack = nn.Sequential(\n",
        "            nn.Linear(32*3*3, 128),\n",
        "            nn.ReLU(),\n",
        "            # nn.Linear(128, 64),\n",
        "            # nn.ReLU(),\n",
        "            nn.Linear(128, class_cnt),\n",
        "        )\n",
        "\n",
        "    def forward(self, x):\n",
        "        x = self.conv_block(x)\n",
        "        x = self.flatten(x)\n",
        "        x = self.linear_relu_stack(x)\n",
        "        return x\n",
        "\n",
        "model = NeuralNetwork().to(device)\n",
        "print(model)"
      ]
    },
    {
      "cell_type": "code",
      "source": [
        "from torchsummary import summary\n",
        "summary(model, (1, 28, 28))"
      ],
      "metadata": {
        "colab": {
          "base_uri": "https://localhost:8080/"
        },
        "id": "XodY-c4ZNnGi",
        "outputId": "ddb31d57-1773-4e5b-a624-84752738cba3"
      },
      "execution_count": 8,
      "outputs": [
        {
          "output_type": "stream",
          "name": "stdout",
          "text": [
            "----------------------------------------------------------------\n",
            "        Layer (type)               Output Shape         Param #\n",
            "================================================================\n",
            "            Conv2d-1            [-1, 8, 26, 26]              80\n",
            "              ReLU-2            [-1, 8, 26, 26]               0\n",
            "         MaxPool2d-3            [-1, 8, 13, 13]               0\n",
            "            Conv2d-4           [-1, 16, 11, 11]           1,168\n",
            "              ReLU-5           [-1, 16, 11, 11]               0\n",
            "         MaxPool2d-6             [-1, 16, 5, 5]               0\n",
            "            Conv2d-7             [-1, 32, 3, 3]           4,640\n",
            "              ReLU-8             [-1, 32, 3, 3]               0\n",
            "           Flatten-9                  [-1, 288]               0\n",
            "           Linear-10                  [-1, 128]          36,992\n",
            "             ReLU-11                  [-1, 128]               0\n",
            "           Linear-12                   [-1, 10]           1,290\n",
            "================================================================\n",
            "Total params: 44,170\n",
            "Trainable params: 44,170\n",
            "Non-trainable params: 0\n",
            "----------------------------------------------------------------\n",
            "Input size (MB): 0.00\n",
            "Forward/backward pass size (MB): 0.13\n",
            "Params size (MB): 0.17\n",
            "Estimated Total Size (MB): 0.31\n",
            "----------------------------------------------------------------\n"
          ]
        }
      ]
    },
    {
      "cell_type": "markdown",
      "metadata": {
        "id": "Ccx7KxKckbax"
      },
      "source": [
        "------------------------------------------------------------------------------------------\n",
        "\n",
        "\n"
      ]
    },
    {
      "cell_type": "markdown",
      "metadata": {
        "id": "XK6HKkcCkbax"
      },
      "source": [
        "## 모델 매개변수 최적화하기\n",
        "모델을 학습하려면 [손실 함수(loss function)](https://pytorch.org/docs/stable/nn.html#loss-functions) 와\n",
        "[옵티마이저(optimizer)](https://pytorch.org/docs/stable/optim.html) 가 필요합니다.\n",
        "\n"
      ]
    },
    {
      "cell_type": "code",
      "execution_count": 9,
      "metadata": {
        "id": "N4P-hlLnkbax"
      },
      "outputs": [],
      "source": [
        "loss_fn = nn.CrossEntropyLoss()\n",
        "optimizer = torch.optim.Adam(model.parameters(), 1e-4)"
      ]
    },
    {
      "cell_type": "markdown",
      "metadata": {
        "id": "VLIJI5VQkbax"
      },
      "source": [
        "각 학습 단계(training loop)에서 모델은 (배치(batch)로 제공되는) 학습 데이터셋에 대한 예측을 수행하고,\n",
        "예측 오류를 역전파하여 모델의 매개변수를 조정합니다.\n",
        "\n"
      ]
    },
    {
      "cell_type": "code",
      "execution_count": 10,
      "metadata": {
        "id": "Svvowr3Jkbax"
      },
      "outputs": [],
      "source": [
        "def train(dataloader, model, loss_fn, optimizer):\n",
        "    size = len(dataloader.dataset)\n",
        "    for batch, (X, y) in enumerate(dataloader):\n",
        "        X, y = X.to(device), y.to(device)\n",
        "\n",
        "        pred = model(X)\n",
        "        loss = loss_fn(pred, y)\n",
        "\n",
        "        optimizer.zero_grad()\n",
        "        loss.backward()\n",
        "        optimizer.step()\n",
        "\n",
        "        if batch % 100 == 0:\n",
        "            loss, current = loss.item(), (batch + 1) * len(X)\n",
        "            print(f\"loss: {loss:>7f}  [{current:>5d}/{size:>5d}]\")"
      ]
    },
    {
      "cell_type": "markdown",
      "metadata": {
        "id": "9UGEv91Kkbax"
      },
      "source": [
        "모델이 학습하고 있는지를 확인하기 위해 테스트 데이터셋으로 모델의 성능을 확인합니다.\n",
        "\n"
      ]
    },
    {
      "cell_type": "code",
      "execution_count": 11,
      "metadata": {
        "id": "aS70DOGIkbax"
      },
      "outputs": [],
      "source": [
        "def test(dataloader, model, loss_fn):\n",
        "    size = len(dataloader.dataset)\n",
        "    num_batches = len(dataloader)\n",
        "    model.eval()\n",
        "    test_loss, correct = 0, 0\n",
        "    with torch.no_grad():\n",
        "        for X, y in dataloader:\n",
        "            X, y = X.to(device), y.to(device)\n",
        "            pred = model(X)\n",
        "\n",
        "            test_loss += loss_fn(pred, y).item()\n",
        "            correct += (pred.argmax(1) == y).type(torch.float).sum().item()\n",
        "    test_loss /= num_batches\n",
        "    correct /= size\n",
        "    print(f\"Test Error: \\n Accuracy: {(100*correct):>0.1f}%, Avg loss: {test_loss:>8f} \\n\")"
      ]
    },
    {
      "cell_type": "markdown",
      "metadata": {
        "id": "FkFMNjWckbay"
      },
      "source": [
        "학습 단계는 여러번의 반복 단계 (*에폭(epochs)*) 를 거쳐서 수행됩니다. 각 에폭에서는 모델은 더 나은 예측을 하기 위해  매개변수를 학습합니다.\n",
        "각 에폭마다 모델의 정확도(accuracy)와 손실(loss)을 출력합니다; 에폭마다 정확도가 증가하고 손실이 감소하는 것을 보려고 합니다.\n",
        "\n"
      ]
    },
    {
      "cell_type": "code",
      "execution_count": 12,
      "metadata": {
        "id": "jw8iaTUOkbay",
        "colab": {
          "base_uri": "https://localhost:8080/"
        },
        "outputId": "066698b9-d778-421f-e88f-91260204c13c"
      },
      "outputs": [
        {
          "output_type": "stream",
          "name": "stdout",
          "text": [
            "Epoch 1\n",
            "-------------------------------\n",
            "loss: 2.308397  [   64/60000]\n",
            "loss: 2.278831  [ 6464/60000]\n",
            "loss: 1.954829  [12864/60000]\n",
            "loss: 1.884691  [19264/60000]\n",
            "loss: 1.455313  [25664/60000]\n",
            "loss: 1.554720  [32064/60000]\n",
            "loss: 1.410059  [38464/60000]\n",
            "loss: 1.243298  [44864/60000]\n",
            "loss: 1.194518  [51264/60000]\n",
            "loss: 1.023618  [57664/60000]\n",
            "Test Error: \n",
            " Accuracy: 57.8%, Avg loss: 1.160610 \n",
            "\n",
            "Epoch 2\n",
            "-------------------------------\n",
            "loss: 1.092703  [   64/60000]\n",
            "loss: 1.302449  [ 6464/60000]\n",
            "loss: 0.932066  [12864/60000]\n",
            "loss: 1.055839  [19264/60000]\n",
            "loss: 0.957457  [25664/60000]\n",
            "loss: 1.201638  [32064/60000]\n",
            "loss: 1.174241  [38464/60000]\n",
            "loss: 0.994518  [44864/60000]\n",
            "loss: 0.999370  [51264/60000]\n",
            "loss: 0.868783  [57664/60000]\n",
            "Test Error: \n",
            " Accuracy: 65.3%, Avg loss: 0.979087 \n",
            "\n",
            "Epoch 3\n",
            "-------------------------------\n",
            "loss: 0.880644  [   64/60000]\n",
            "loss: 1.063992  [ 6464/60000]\n",
            "loss: 0.770171  [12864/60000]\n",
            "loss: 0.909993  [19264/60000]\n",
            "loss: 0.853359  [25664/60000]\n",
            "loss: 0.979623  [32064/60000]\n",
            "loss: 1.006953  [38464/60000]\n",
            "loss: 0.919298  [44864/60000]\n",
            "loss: 0.893082  [51264/60000]\n",
            "loss: 0.797580  [57664/60000]\n",
            "Test Error: \n",
            " Accuracy: 69.0%, Avg loss: 0.888530 \n",
            "\n",
            "Epoch 4\n",
            "-------------------------------\n",
            "loss: 0.772265  [   64/60000]\n",
            "loss: 0.959771  [ 6464/60000]\n",
            "loss: 0.673804  [12864/60000]\n",
            "loss: 0.820979  [19264/60000]\n",
            "loss: 0.809412  [25664/60000]\n",
            "loss: 0.846821  [32064/60000]\n",
            "loss: 0.896468  [38464/60000]\n",
            "loss: 0.883096  [44864/60000]\n",
            "loss: 0.826640  [51264/60000]\n",
            "loss: 0.746697  [57664/60000]\n",
            "Test Error: \n",
            " Accuracy: 70.9%, Avg loss: 0.829791 \n",
            "\n",
            "Epoch 5\n",
            "-------------------------------\n",
            "loss: 0.710828  [   64/60000]\n",
            "loss: 0.907414  [ 6464/60000]\n",
            "loss: 0.609912  [12864/60000]\n",
            "loss: 0.760830  [19264/60000]\n",
            "loss: 0.780992  [25664/60000]\n",
            "loss: 0.780939  [32064/60000]\n",
            "loss: 0.836290  [38464/60000]\n",
            "loss: 0.863522  [44864/60000]\n",
            "loss: 0.785862  [51264/60000]\n",
            "loss: 0.698382  [57664/60000]\n",
            "Test Error: \n",
            " Accuracy: 72.5%, Avg loss: 0.789274 \n",
            "\n",
            "Epoch 6\n",
            "-------------------------------\n",
            "loss: 0.679808  [   64/60000]\n",
            "loss: 0.880161  [ 6464/60000]\n",
            "loss: 0.569676  [12864/60000]\n",
            "loss: 0.723266  [19264/60000]\n",
            "loss: 0.755904  [25664/60000]\n",
            "loss: 0.752077  [32064/60000]\n",
            "loss: 0.793901  [38464/60000]\n",
            "loss: 0.851506  [44864/60000]\n",
            "loss: 0.759252  [51264/60000]\n",
            "loss: 0.652539  [57664/60000]\n",
            "Test Error: \n",
            " Accuracy: 73.5%, Avg loss: 0.760292 \n",
            "\n",
            "Epoch 7\n",
            "-------------------------------\n",
            "loss: 0.656643  [   64/60000]\n",
            "loss: 0.855715  [ 6464/60000]\n",
            "loss: 0.546733  [12864/60000]\n",
            "loss: 0.698548  [19264/60000]\n",
            "loss: 0.726864  [25664/60000]\n",
            "loss: 0.730159  [32064/60000]\n",
            "loss: 0.761809  [38464/60000]\n",
            "loss: 0.842690  [44864/60000]\n",
            "loss: 0.740189  [51264/60000]\n",
            "loss: 0.612651  [57664/60000]\n",
            "Test Error: \n",
            " Accuracy: 74.4%, Avg loss: 0.736109 \n",
            "\n",
            "Epoch 8\n",
            "-------------------------------\n",
            "loss: 0.641400  [   64/60000]\n",
            "loss: 0.834415  [ 6464/60000]\n",
            "loss: 0.536107  [12864/60000]\n",
            "loss: 0.680084  [19264/60000]\n",
            "loss: 0.701358  [25664/60000]\n",
            "loss: 0.710187  [32064/60000]\n",
            "loss: 0.740226  [38464/60000]\n",
            "loss: 0.838096  [44864/60000]\n",
            "loss: 0.726421  [51264/60000]\n",
            "loss: 0.580440  [57664/60000]\n",
            "Test Error: \n",
            " Accuracy: 75.0%, Avg loss: 0.717157 \n",
            "\n",
            "Epoch 9\n",
            "-------------------------------\n",
            "loss: 0.628341  [   64/60000]\n",
            "loss: 0.811619  [ 6464/60000]\n",
            "loss: 0.526686  [12864/60000]\n",
            "loss: 0.663316  [19264/60000]\n",
            "loss: 0.676585  [25664/60000]\n",
            "loss: 0.691546  [32064/60000]\n",
            "loss: 0.719667  [38464/60000]\n",
            "loss: 0.827652  [44864/60000]\n",
            "loss: 0.712802  [51264/60000]\n",
            "loss: 0.555827  [57664/60000]\n",
            "Test Error: \n",
            " Accuracy: 75.7%, Avg loss: 0.701084 \n",
            "\n",
            "Epoch 10\n",
            "-------------------------------\n",
            "loss: 0.616798  [   64/60000]\n",
            "loss: 0.790524  [ 6464/60000]\n",
            "loss: 0.519756  [12864/60000]\n",
            "loss: 0.649257  [19264/60000]\n",
            "loss: 0.652660  [25664/60000]\n",
            "loss: 0.675256  [32064/60000]\n",
            "loss: 0.696973  [38464/60000]\n",
            "loss: 0.816775  [44864/60000]\n",
            "loss: 0.702223  [51264/60000]\n",
            "loss: 0.535183  [57664/60000]\n",
            "Test Error: \n",
            " Accuracy: 75.9%, Avg loss: 0.687436 \n",
            "\n",
            "Epoch 11\n",
            "-------------------------------\n",
            "loss: 0.605387  [   64/60000]\n",
            "loss: 0.773454  [ 6464/60000]\n",
            "loss: 0.514016  [12864/60000]\n",
            "loss: 0.635795  [19264/60000]\n",
            "loss: 0.631215  [25664/60000]\n",
            "loss: 0.661406  [32064/60000]\n",
            "loss: 0.675995  [38464/60000]\n",
            "loss: 0.807074  [44864/60000]\n",
            "loss: 0.693857  [51264/60000]\n",
            "loss: 0.518420  [57664/60000]\n",
            "Test Error: \n",
            " Accuracy: 76.3%, Avg loss: 0.674991 \n",
            "\n",
            "Epoch 12\n",
            "-------------------------------\n",
            "loss: 0.591492  [   64/60000]\n",
            "loss: 0.759303  [ 6464/60000]\n",
            "loss: 0.508842  [12864/60000]\n",
            "loss: 0.624031  [19264/60000]\n",
            "loss: 0.613282  [25664/60000]\n",
            "loss: 0.650267  [32064/60000]\n",
            "loss: 0.656674  [38464/60000]\n",
            "loss: 0.796075  [44864/60000]\n",
            "loss: 0.685981  [51264/60000]\n",
            "loss: 0.504304  [57664/60000]\n",
            "Test Error: \n",
            " Accuracy: 76.6%, Avg loss: 0.664579 \n",
            "\n",
            "Epoch 13\n",
            "-------------------------------\n",
            "loss: 0.578517  [   64/60000]\n",
            "loss: 0.745154  [ 6464/60000]\n",
            "loss: 0.504809  [12864/60000]\n",
            "loss: 0.610609  [19264/60000]\n",
            "loss: 0.599002  [25664/60000]\n",
            "loss: 0.640154  [32064/60000]\n",
            "loss: 0.637559  [38464/60000]\n",
            "loss: 0.785979  [44864/60000]\n",
            "loss: 0.675788  [51264/60000]\n",
            "loss: 0.493085  [57664/60000]\n",
            "Test Error: \n",
            " Accuracy: 76.9%, Avg loss: 0.655003 \n",
            "\n",
            "Epoch 14\n",
            "-------------------------------\n",
            "loss: 0.565471  [   64/60000]\n",
            "loss: 0.732234  [ 6464/60000]\n",
            "loss: 0.499647  [12864/60000]\n",
            "loss: 0.598022  [19264/60000]\n",
            "loss: 0.586859  [25664/60000]\n",
            "loss: 0.630918  [32064/60000]\n",
            "loss: 0.621475  [38464/60000]\n",
            "loss: 0.774311  [44864/60000]\n",
            "loss: 0.666782  [51264/60000]\n",
            "loss: 0.483209  [57664/60000]\n",
            "Test Error: \n",
            " Accuracy: 77.1%, Avg loss: 0.646665 \n",
            "\n",
            "Epoch 15\n",
            "-------------------------------\n",
            "loss: 0.552622  [   64/60000]\n",
            "loss: 0.720103  [ 6464/60000]\n",
            "loss: 0.494566  [12864/60000]\n",
            "loss: 0.587756  [19264/60000]\n",
            "loss: 0.574491  [25664/60000]\n",
            "loss: 0.621099  [32064/60000]\n",
            "loss: 0.608788  [38464/60000]\n",
            "loss: 0.761761  [44864/60000]\n",
            "loss: 0.659384  [51264/60000]\n",
            "loss: 0.473074  [57664/60000]\n",
            "Test Error: \n",
            " Accuracy: 77.3%, Avg loss: 0.638503 \n",
            "\n",
            "Epoch 16\n",
            "-------------------------------\n",
            "loss: 0.541179  [   64/60000]\n",
            "loss: 0.706967  [ 6464/60000]\n",
            "loss: 0.489287  [12864/60000]\n",
            "loss: 0.578767  [19264/60000]\n",
            "loss: 0.561399  [25664/60000]\n",
            "loss: 0.611809  [32064/60000]\n",
            "loss: 0.600241  [38464/60000]\n",
            "loss: 0.750403  [44864/60000]\n",
            "loss: 0.649657  [51264/60000]\n",
            "loss: 0.463978  [57664/60000]\n",
            "Test Error: \n",
            " Accuracy: 77.5%, Avg loss: 0.630577 \n",
            "\n",
            "Epoch 17\n",
            "-------------------------------\n",
            "loss: 0.527762  [   64/60000]\n",
            "loss: 0.695298  [ 6464/60000]\n",
            "loss: 0.486357  [12864/60000]\n",
            "loss: 0.571141  [19264/60000]\n",
            "loss: 0.549915  [25664/60000]\n",
            "loss: 0.602594  [32064/60000]\n",
            "loss: 0.592536  [38464/60000]\n",
            "loss: 0.740137  [44864/60000]\n",
            "loss: 0.638399  [51264/60000]\n",
            "loss: 0.456029  [57664/60000]\n",
            "Test Error: \n",
            " Accuracy: 77.7%, Avg loss: 0.623877 \n",
            "\n",
            "Epoch 18\n",
            "-------------------------------\n",
            "loss: 0.516403  [   64/60000]\n",
            "loss: 0.683585  [ 6464/60000]\n",
            "loss: 0.484172  [12864/60000]\n",
            "loss: 0.565098  [19264/60000]\n",
            "loss: 0.538774  [25664/60000]\n",
            "loss: 0.593264  [32064/60000]\n",
            "loss: 0.585940  [38464/60000]\n",
            "loss: 0.731622  [44864/60000]\n",
            "loss: 0.634025  [51264/60000]\n",
            "loss: 0.447618  [57664/60000]\n",
            "Test Error: \n",
            " Accuracy: 77.9%, Avg loss: 0.617361 \n",
            "\n",
            "Epoch 19\n",
            "-------------------------------\n",
            "loss: 0.505074  [   64/60000]\n",
            "loss: 0.671503  [ 6464/60000]\n",
            "loss: 0.481034  [12864/60000]\n",
            "loss: 0.560860  [19264/60000]\n",
            "loss: 0.529053  [25664/60000]\n",
            "loss: 0.588403  [32064/60000]\n",
            "loss: 0.579512  [38464/60000]\n",
            "loss: 0.724461  [44864/60000]\n",
            "loss: 0.627524  [51264/60000]\n",
            "loss: 0.441853  [57664/60000]\n",
            "Test Error: \n",
            " Accuracy: 78.1%, Avg loss: 0.611101 \n",
            "\n",
            "Epoch 20\n",
            "-------------------------------\n",
            "loss: 0.495546  [   64/60000]\n",
            "loss: 0.661811  [ 6464/60000]\n",
            "loss: 0.477479  [12864/60000]\n",
            "loss: 0.556851  [19264/60000]\n",
            "loss: 0.520761  [25664/60000]\n",
            "loss: 0.579884  [32064/60000]\n",
            "loss: 0.574294  [38464/60000]\n",
            "loss: 0.717827  [44864/60000]\n",
            "loss: 0.622069  [51264/60000]\n",
            "loss: 0.435785  [57664/60000]\n",
            "Test Error: \n",
            " Accuracy: 78.2%, Avg loss: 0.605049 \n",
            "\n",
            "Done!\n"
          ]
        }
      ],
      "source": [
        "epochs = 20\n",
        "for t in range(epochs):\n",
        "    print(f\"Epoch {t+1}\\n-------------------------------\")\n",
        "    train(train_dataloader, model, loss_fn, optimizer)\n",
        "    test(test_dataloader, model, loss_fn)\n",
        "print(\"Done!\")"
      ]
    },
    {
      "cell_type": "markdown",
      "metadata": {
        "id": "9zx51mKzkbay"
      },
      "source": [
        "------------------------------------------------------------------------------------------\n",
        "\n",
        "\n"
      ]
    },
    {
      "cell_type": "markdown",
      "metadata": {
        "id": "tanzHe4jkbay"
      },
      "source": [
        "## 모델 저장하기\n",
        "모델을 저장하는 일반적인 방법은 (모델의 매개변수들을 포함하여) 내부 상태 사전(internal state dictionary)을\n",
        "직렬화(serialize)하는 것입니다.\n",
        "\n"
      ]
    },
    {
      "cell_type": "code",
      "execution_count": 13,
      "metadata": {
        "id": "-_AMD6O-kbay",
        "colab": {
          "base_uri": "https://localhost:8080/"
        },
        "outputId": "2289d3ad-fa15-4357-8d29-fb2d6a4d70a3"
      },
      "outputs": [
        {
          "output_type": "stream",
          "name": "stdout",
          "text": [
            "Saved PyTorch Model State to model.pth\n"
          ]
        }
      ],
      "source": [
        "torch.save(model.state_dict(), \"model.pth\")\n",
        "print(\"Saved PyTorch Model State to model.pth\")"
      ]
    },
    {
      "cell_type": "markdown",
      "metadata": {
        "id": "441FBKKkkbay"
      },
      "source": [
        "## 모델 불러오기\n",
        "\n",
        "모델을 불러오는 과정에는 모델 구조를 다시 만들고 상태 사전을 모델에 불러오는 과정이 포함됩니다.\n",
        "\n"
      ]
    },
    {
      "cell_type": "code",
      "execution_count": 14,
      "metadata": {
        "id": "-_Xl3y6Nkbay",
        "colab": {
          "base_uri": "https://localhost:8080/"
        },
        "outputId": "16bd1657-1eca-4b13-aab6-1a25ea5fed77"
      },
      "outputs": [
        {
          "output_type": "execute_result",
          "data": {
            "text/plain": [
              "<All keys matched successfully>"
            ]
          },
          "metadata": {},
          "execution_count": 14
        }
      ],
      "source": [
        "model = NeuralNetwork().to(device)\n",
        "model.load_state_dict(torch.load(\"model.pth\"))"
      ]
    },
    {
      "cell_type": "markdown",
      "metadata": {
        "id": "UDONFUPvkbay"
      },
      "source": [
        "이제 이 모델을 사용해서 예측을 할 수 있습니다.\n",
        "\n"
      ]
    },
    {
      "cell_type": "code",
      "execution_count": 15,
      "metadata": {
        "id": "rKddeYBVkbay",
        "colab": {
          "base_uri": "https://localhost:8080/"
        },
        "outputId": "c9912355-8790-4067-92ad-c60df19ec41f"
      },
      "outputs": [
        {
          "output_type": "stream",
          "name": "stdout",
          "text": [
            "Predicted: \"Ankle boot\", Actual: \"Ankle boot\"\n"
          ]
        }
      ],
      "source": [
        "classes = [\n",
        "    \"T-shirt/top\",\n",
        "    \"Trouser\",\n",
        "    \"Pullover\",\n",
        "    \"Dress\",\n",
        "    \"Coat\",\n",
        "    \"Sandal\",\n",
        "    \"Shirt\",\n",
        "    \"Sneaker\",\n",
        "    \"Bag\",\n",
        "    \"Ankle boot\",\n",
        "]\n",
        "\n",
        "model.eval()\n",
        "x, y = test_data[0][0], test_data[0][1]\n",
        "with torch.no_grad():\n",
        "    x = x.to(device)\n",
        "    pred = model(x.unsqueeze(0))\n",
        "    predicted, actual = classes[pred[0].argmax(0)], classes[y]\n",
        "    print(f'Predicted: \"{predicted}\", Actual: \"{actual}\"')"
      ]
    },
    {
      "cell_type": "code",
      "source": [],
      "metadata": {
        "id": "Q5p3On8KEaml"
      },
      "execution_count": 15,
      "outputs": []
    }
  ],
  "metadata": {
    "kernelspec": {
      "display_name": "Python 3",
      "name": "python3"
    },
    "language_info": {
      "codemirror_mode": {
        "name": "ipython",
        "version": 3
      },
      "file_extension": ".py",
      "mimetype": "text/x-python",
      "name": "python",
      "nbconvert_exporter": "python",
      "pygments_lexer": "ipython3",
      "version": "3.9.16"
    },
    "colab": {
      "provenance": [],
      "gpuType": "T4",
      "include_colab_link": true
    },
    "accelerator": "GPU"
  },
  "nbformat": 4,
  "nbformat_minor": 0
}